import numpy as np
import pandas as pd
import matplotlib.pyplot as plt

# Load the dataset
df = pd.read_csv('customer_churn.csv')

# Drop the customerID column
df.drop('customerID', axis='columns', inplace=True)

# Convert 'TotalCharges' to numeric, handling errors
df['TotalCharges'] = pd.to_numeric(df['TotalCharges'], errors='coerce')

# Replace 'No phone service' and 'No internet service' with 'No' in relevant columns
df.replace({'No phone service': 'No', 'No internet service': 'No'}, inplace=True)

# Map binary columns to 1/0
binary_cols = ['Partner', 'Dependents', 'PhoneService', 'MultipleLines', 'OnlineSecurity', 'OnlineBackup',
               'DeviceProtection', 'TechSupport', 'StreamingTV', 'StreamingMovies', 'PaperlessBilling', 'Churn']
df[binary_cols] = df[binary_cols].replace({'Yes': 1, 'No': 0})

# Map 'gender' column to 1/0
df['gender'] = df['gender'].replace({'Female': 1, 'Male': 0})

# One-hot encode categorical columns
categorical_cols = ['InternetService', 'Contract', 'PaymentMethod']
df = pd.get_dummies(data=df, columns=categorical_cols)

# Visualize churn patterns
plt.figure(figsize=(12, 6))
plt.subplot(1, 2, 1)
df['Churn'].value_counts().plot(kind='pie', autopct='%1.1f%%', labels=['Retained', 'Churned'])
plt.title('Churn Distribution')

plt.subplot(1, 2, 2)
df['Churn'].value_counts().plot(kind='bar', color=['green', 'red'])
plt.xticks(rotation=0)
plt.xlabel('Churn')
plt.ylabel('Number of Customers')
plt.title('Churn Distribution')

plt.tight_layout()
plt.show()

# Calculate and visualize retention rates
retention_rate = df['Churn'].value_counts(normalize=True)[0] * 100
churn_rate = df['Churn'].value_counts(normalize=True)[1] * 100

plt.figure(figsize=(6, 4))
plt.bar(['Retention Rate', 'Churn Rate'], [retention_rate, churn_rate], color=['green', 'red'])
plt.xlabel('Customer Status')
plt.ylabel('Percentage')
plt.title('Retention and Churn Rates')
plt.show()

# Visualize key factors influencing churn
key_factor_cols = ['InternetService_Fiber optic', 'Contract_Month-to-month', 'PaymentMethod_Electronic check',
                   'OnlineSecurity', 'TechSupport', 'PaperlessBilling']

fig, axes = plt.subplots(nrows=2, ncols=3, figsize=(18, 10))
fig.suptitle('Key Factors Influencing Churn', fontsize=16)

for i, col in enumerate(key_factor_cols):
    ax = axes[i // 3, i % 3]
    df.groupby([col, 'Churn'])[col].count().unstack('Churn').plot(kind='bar', ax=ax, stacked=True, color=['green', 'red'])
    ax.set_title(col)
    ax.set_xlabel('')
    ax.set_ylabel('Number of Customers')
    ax.legend(title='Churn', labels=['Retained', 'Churned'])

plt.tight_layout()
plt.subplots_adjust(top=0.9)
plt.show()
